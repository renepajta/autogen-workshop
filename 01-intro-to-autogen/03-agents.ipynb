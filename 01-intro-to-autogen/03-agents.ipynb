{
 "cells": [
  {
   "cell_type": "markdown",
   "metadata": {},
   "source": [
    "# Agents\n",
    "\n",
    "AutoGen AgentChat provides a set of preset Agents, each with variations in how an agent might respond to messages.\n",
    "All agents share the following attributes and methods:\n",
    "\n",
    "- `~autogen_agentchat.agents.BaseChatAgent.name`: The unique name of the agent.\n",
    "- `~autogen_agentchat.agents.BaseChatAgent.description`: The description of the agent in text.\n",
    "- `~autogen_agentchat.agents.BaseChatAgent.on_messages`: Send the agent a sequence of messages that subclass `~autogen_agentchat.messages.BaseChatMessage` and get a `~autogen_agentchat.base.Response`. **It is important to note that agents are expected to be stateful and this method is expected to be called with new messages, not the complete history**.\n",
    "- `~autogen_agentchat.agents.BaseChatAgent.on_messages_stream`: Same as `~autogen_agentchat.agents.BaseChatAgent.on_messages` but returns an iterator of messages that subclass `~autogen_agentchat.messages.BaseAgentEvent` or `~autogen_agentchat.messages.BaseChatMessage` followed by a `~autogen_agentchat.base.Response` as the last item.\n",
    "- `~autogen_agentchat.agents.BaseChatAgent.on_reset`: Reset the agent to its initial state.\n",
    "- `~autogen_agentchat.agents.BaseChatAgent.run` and `~autogen_agentchat.agents.BaseChatAgent.run_stream`: convenience methods that call `~autogen_agentchat.agents.BaseChatAgent.on_messages` and `~autogen_agentchat.agents.BaseChatAgent.on_messages_stream` respectively but offer the same interface as [Teams](./teams.ipynb).\n",
    "\n",
    "See `autogen_agentchat.messages` for more information on AgentChat message types.\n",
    "\n",
    "\n",
    "## Assistant Agent\n",
    "\n",
    "`~autogen_agentchat.agents.AssistantAgent` is a built-in agent that\n",
    "uses a language model and has the ability to use tools."
   ]
  },
  {
   "cell_type": "code",
   "execution_count": null,
   "metadata": {},
   "outputs": [],
   "source": [
    "from autogen_agentchat.agents import AssistantAgent\n",
    "from autogen_agentchat.messages import StructuredMessage, TextMessage\n",
    "from autogen_agentchat.ui import Console\n",
    "from autogen_core import CancellationToken\n",
    "from autogen_ext.models.openai import AzureOpenAIChatCompletionClient\n",
    "\n"
   ]
  },
  {
   "cell_type": "code",
   "execution_count": null,
   "metadata": {},
   "outputs": [],
   "source": [
    "import os \n",
    "from dotenv import load_dotenv\n",
    "load_dotenv(override=True)  # Load environment variables from .env file\n",
    "\n",
    "# Load environment variables\n",
    "deployment_name = os.getenv(\"AZURE_OPENAI_DEPLOYMENT_NAME\")\n",
    "model_name = os.getenv(\"AZURE_OPENAI_MODEL_NAME\")\n",
    "api_key = os.getenv(\"AZURE_OPENAI_API_KEY\")\n",
    "base_url = os.getenv(\"AZURE_OPENAI_ENDPOINT\")\n",
    "api_version = os.getenv(\"AZURE_OPENAI_API_VERSION\")\n",
    "\n",
    "az_model_client = AzureOpenAIChatCompletionClient(\n",
    "    azure_deployment=deployment_name,\n",
    "    model=model_name,\n",
    "    api_version=api_version,\n",
    "    azure_endpoint=base_url,\n",
    "    # azure_ad_token_provider=token_provider,  # Optional if you choose key-based authentication.\n",
    "    api_key=api_key, # For key-based authentication.\n",
    ")"
   ]
  },
  {
   "cell_type": "code",
   "execution_count": null,
   "metadata": {},
   "outputs": [],
   "source": [
    "# Define a tool that searches the web for information.\n",
    "async def web_search(query: str) -> str:\n",
    "    \"\"\"Find information on the web\"\"\"\n",
    "    return \"AutoGen is a programming framework for building multi-agent applications.\"\n",
    "\n",
    "\n",
    "agent = AssistantAgent(\n",
    "    name=\"assistant\",\n",
    "    model_client=az_model_client,\n",
    "    tools=[web_search],\n",
    "    system_message=\"Use tools to solve tasks.\",\n",
    ")"
   ]
  },
  {
   "cell_type": "markdown",
   "metadata": {},
   "source": [
    "\n",
    "## Getting Responses\n",
    "\n",
    "We can use the `~autogen_agentchat.agents.AssistantAgent.on_messages` method to get the agent response to a given message.\n"
   ]
  },
  {
   "cell_type": "code",
   "execution_count": null,
   "metadata": {},
   "outputs": [],
   "source": [
    "async def assistant_run() -> None:\n",
    "    response = await agent.on_messages(\n",
    "        [TextMessage(content=\"Find information on AutoGen\", source=\"user\")],\n",
    "        cancellation_token=CancellationToken(),\n",
    "    )\n",
    "    print(response.inner_messages)\n",
    "    print(response.chat_message)\n",
    "\n",
    "\n",
    "# Use asyncio.run(assistant_run()) when running in a script.\n",
    "await assistant_run()"
   ]
  },
  {
   "cell_type": "markdown",
   "metadata": {},
   "source": [
    "The call to the `~autogen_agentchat.agents.AssistantAgent.on_messages` method\n",
    "returns a `~autogen_agentchat.base.Response`\n",
    "that contains the agent's final response in the `~autogen_agentchat.base.Response.chat_message` attribute,\n",
    "as well as a list of inner messages in the `~autogen_agentchat.base.Response.inner_messages` attribute,\n",
    "which stores the agent's \"thought process\" that led to the final response.\n",
    "\n",
    "```{note}\n",
    "It is important to note that `~autogen_agentchat.agents.AssistantAgent.on_messages`\n",
    "will update the internal state of the agent -- it will add the messages to the agent's\n",
    "history. So you should call this method with new messages.\n",
    "**You should not repeatedly call this method with the same messages or the complete history.**\n",
    "```\n",
    "\n",
    "```{note}\n",
    "Unlike in v0.2 AgentChat, the tools are executed by the same agent directly within\n",
    "the same call to `~autogen_agentchat.agents.AssistantAgent.on_messages`.\n",
    "By default, the agent will return the result of the tool call as the final response.\n",
    "```\n",
    "\n",
    "You can also call the `~autogen_agentchat.agents.BaseChatAgent.run` method, which is a convenience method that calls `~autogen_agentchat.agents.BaseChatAgent.on_messages`. \n",
    "It follows the same interface as [Teams](./teams.ipynb) and returns a `~autogen_agentchat.base.TaskResult` object."
   ]
  },
  {
   "cell_type": "markdown",
   "metadata": {},
   "source": [
    "## Multi-Modal Input\n",
    "\n",
    "The `~autogen_agentchat.agents.AssistantAgent` can handle multi-modal input\n",
    "by providing the input as a `~autogen_agentchat.messages.MultiModalMessage`."
   ]
  },
  {
   "cell_type": "code",
   "execution_count": null,
   "metadata": {},
   "outputs": [],
   "source": [
    "from io import BytesIO\n",
    "\n",
    "import PIL\n",
    "import requests\n",
    "from autogen_agentchat.messages import MultiModalMessage\n",
    "from autogen_core import Image\n",
    "\n",
    "# Create a multi-modal message with random image and text.\n",
    "pil_image = PIL.Image.open(BytesIO(requests.get(\"https://picsum.photos/300/200\").content))\n",
    "img = Image(pil_image)\n",
    "multi_modal_message = MultiModalMessage(content=[\"Can you describe the content of this image?\", img], source=\"user\")\n",
    "img"
   ]
  },
  {
   "cell_type": "code",
   "execution_count": null,
   "metadata": {},
   "outputs": [],
   "source": [
    "# Use asyncio.run(...) when running in a script.\n",
    "response = await agent.on_messages([multi_modal_message], CancellationToken())\n",
    "print(response.chat_message)"
   ]
  },
  {
   "cell_type": "markdown",
   "metadata": {},
   "source": [
    "You can also use `~autogen_agentchat.messages.MultiModalMessage` as a `task`\n",
    "input to the `~autogen_agentchat.agents.BaseChatAgent.run` method."
   ]
  },
  {
   "cell_type": "markdown",
   "metadata": {},
   "source": [
    "## Streaming Messages\n",
    "\n",
    "We can also stream each message as it is generated by the agent by using the\n",
    "`~autogen_agentchat.agents.AssistantAgent.on_messages_stream` method,\n",
    "and use `~autogen_agentchat.ui.Console` to print the messages\n",
    "as they appear to the console."
   ]
  },
  {
   "cell_type": "code",
   "execution_count": null,
   "metadata": {},
   "outputs": [],
   "source": [
    "async def assistant_run_stream() -> None:\n",
    "    # Option 1: read each message from the stream (as shown in the previous example).\n",
    "    # async for message in agent.on_messages_stream(\n",
    "    #     [TextMessage(content=\"Find information on AutoGen\", source=\"user\")],\n",
    "    #     cancellation_token=CancellationToken(),\n",
    "    # ):\n",
    "    #     print(message)\n",
    "\n",
    "    # Option 2: use Console to print all messages as they appear.\n",
    "    await Console(\n",
    "        agent.on_messages_stream(\n",
    "            [TextMessage(content=\"Find information on AutoGen\", source=\"user\")],\n",
    "            cancellation_token=CancellationToken(),\n",
    "        ),\n",
    "        output_stats=True,  # Enable stats printing.\n",
    "    )\n",
    "\n",
    "\n",
    "# Use asyncio.run(assistant_run_stream()) when running in a script.\n",
    "await assistant_run_stream()"
   ]
  },
  {
   "cell_type": "markdown",
   "metadata": {},
   "source": [
    "The `~autogen_agentchat.agents.AssistantAgent.on_messages_stream` method\n",
    "returns an asynchronous generator that yields each inner message generated by the agent,\n",
    "with the final item being the response message in the `~autogen_agentchat.base.Response.chat_message` attribute.\n",
    "\n",
    "From the messages, you can observe that the assistant agent utilized the `web_search` tool to\n",
    "gather information and responded based on the search results.\n",
    "\n",
    "You can also use `~autogen_agentchat.agents.BaseChatAgent.run_stream` to get the same streaming behavior as `~autogen_agentchat.agents.BaseChatAgent.on_messages_stream`. It follows the same interface as [Teams](./teams.ipynb)."
   ]
  },
  {
   "cell_type": "markdown",
   "metadata": {},
   "source": [
    "## Using Tools\n",
    "\n",
    "Large Language Models (LLMs) are typically limited to generating text or code responses. \n",
    "However, many complex tasks benefit from the ability to use external tools that perform specific actions,\n",
    "such as fetching data from APIs or databases.\n",
    "\n",
    "To address this limitation, modern LLMs can now accept a list of available tool schemas \n",
    "(descriptions of tools and their arguments) and generate a tool call message. \n",
    "This capability is known as **Tool Calling** or **Function Calling** and \n",
    "is becoming a popular pattern in building intelligent agent-based applications.\n",
    "Refer to the documentation from [OpenAI](https://platform.openai.com/docs/guides/function-calling) \n",
    "and [Anthropic](https://docs.anthropic.com/en/docs/build-with-claude/tool-use) for more information about tool calling in LLMs.\n",
    "\n",
    "In AgentChat, the `~autogen_agentchat.agents.AssistantAgent` can use tools to perform specific actions.\n",
    "The `web_search` tool is one such tool that allows the assistant agent to search the web for information.\n",
    "A custom tool can be a Python function or a subclass of the `~autogen_core.tools.BaseTool`.\n",
    "\n",
    "```{note}\n",
    "For how to use model clients directly with tools, refer to the [Tools](../../core-user-guide/components/tools.ipynb) section\n",
    "in the Core User Guide.\n",
    "```\n",
    "\n",
    "By default, when `~autogen_agentchat.agents.AssistantAgent` executes a tool,\n",
    "it will return the tool's output as a string in `~autogen_agentchat.messages.ToolCallSummaryMessage` in its response.\n",
    "If your tool does not return a well-formed string in natural language, you\n",
    "can add a reflection step to have the model summarize the tool's output,\n",
    "by setting the `reflect_on_tool_use=True` parameter in the `~autogen_agentchat.agents.AssistantAgent` constructor.\n",
    "\n",
    "### Built-in Tools\n",
    "\n",
    "AutoGen Extension provides a set of built-in tools that can be used with the Assistant Agent.\n",
    "Head over to the [API documentation](../../../reference/index.md) for all the available tools\n",
    "under the `autogen_ext.tools` namespace. For example, you can find the following tools:\n",
    "\n",
    "- `~autogen_ext.tools.graphrag`: Tools for using GraphRAG index.\n",
    "- `~autogen_ext.tools.http`: Tools for making HTTP requests.\n",
    "- `~autogen_ext.tools.langchain`: Adaptor for using LangChain tools.\n",
    "- `~autogen_ext.tools.mcp`: Tools for using Model Chat Protocol (MCP) servers."
   ]
  },
  {
   "cell_type": "markdown",
   "metadata": {},
   "source": [
    "### Function Tool\n",
    "\n",
    "The `~autogen_agentchat.agents.AssistantAgent` automatically\n",
    "converts a Python function into a `~autogen_core.tools.FunctionTool`\n",
    "which can be used as a tool by the agent and automatically generates the tool schema\n",
    "from the function signature and docstring.\n",
    "\n",
    "The `web_search_func` tool is an example of a function tool.\n",
    "The schema is automatically generated."
   ]
  },
  {
   "cell_type": "code",
   "execution_count": null,
   "metadata": {},
   "outputs": [],
   "source": [
    "from autogen_core.tools import FunctionTool\n",
    "\n",
    "\n",
    "# Define a tool using a Python function.\n",
    "async def web_search_func(query: str) -> str:\n",
    "    \"\"\"Find information on the web\"\"\"\n",
    "    return \"AutoGen is a programming framework for building multi-agent applications.\"\n",
    "\n",
    "\n",
    "# This step is automatically performed inside the AssistantAgent if the tool is a Python function.\n",
    "web_search_function_tool = FunctionTool(web_search_func, description=\"Find information on the web\")\n",
    "# The schema is provided to the model during AssistantAgent's on_messages call.\n",
    "web_search_function_tool.schema"
   ]
  },
  {
   "cell_type": "markdown",
   "metadata": {},
   "source": [
    "### Model Context Protocol Tools\n",
    "\n",
    "The `~autogen_agentchat.agents.AssistantAgent` can also use tools that are\n",
    "served from a Model Context Protocol (MCP) server\n",
    "using `~autogen_ext.tools.mcp.mcp_server_tools`."
   ]
  },
  {
   "cell_type": "code",
   "execution_count": null,
   "metadata": {},
   "outputs": [],
   "source": [
    "# pip install mcp-server-fetch"
   ]
  },
  {
   "cell_type": "code",
   "execution_count": null,
   "metadata": {},
   "outputs": [],
   "source": [
    "import asyncio\n",
    "\n",
    "from pathlib import Path\n",
    "from autogen_ext.tools.mcp import StdioServerParams, mcp_server_tools\n",
    "from autogen_agentchat.agents import AssistantAgent\n",
    "from autogen_core import CancellationToken\n",
    "\n",
    "az_model_client = AzureOpenAIChatCompletionClient(\n",
    "    azure_deployment=deployment_name,\n",
    "    model=model_name,\n",
    "    api_version=api_version,\n",
    "    azure_endpoint=base_url,\n",
    "    # azure_ad_token_provider=token_provider,  # Optional if you choose key-based authentication.\n",
    "    api_key=api_key, # For key-based authentication.\n",
    ")\n",
    "\n",
    "# Setup server params for local filesystem access\n",
    "desktop = str(Path.cwd())\n",
    "server_params = StdioServerParams(\n",
    "    command=\"npx\", args=[\"-y\", \"@modelcontextprotocol/server-filesystem\", desktop]\n",
    ")\n",
    "\n",
    "# Get all available tools from the server\n",
    "tools = await mcp_server_tools(server_params)\n",
    "\n",
    "# Create an agent that can use all the tools\n",
    "agent = AssistantAgent(\n",
    "    name=\"file_manager\",\n",
    "    model_client=az_model_client,\n",
    "    tools=tools,  # type: ignore\n",
    ")\n",
    "\n",
    "# The agent can now use any of the filesystem tools\n",
    "await Console(agent.run_stream(task=\"Create a file called test.txt with some content\", cancellation_token=CancellationToken()))"
   ]
  },
  {
   "cell_type": "markdown",
   "metadata": {},
   "source": [
    "### Parallel Tool Calls\n",
    "\n",
    "Some models support parallel tool calls, which can be useful for tasks that require multiple tools to be called simultaneously.\n",
    "By default, if the model client produces multiple tool calls, `~autogen_agentchat.agents.AssistantAgent`\n",
    "will call the tools in parallel.\n",
    "\n",
    "You may want to disable parallel tool calls when the tools have side effects that may interfere with each other, or,\n",
    "when agent behavior needs to be consistent across different models.\n",
    "This should be done at the model client level.\n",
    "\n",
    "For `~autogen_ext.models.openai.OpenAIChatCompletionClient` and `~autogen_ext.models.openai.AzureOpenAIChatCompletionClient`,\n",
    "set `parallel_tool_calls=False` to disable parallel tool calls."
   ]
  },
  {
   "cell_type": "code",
   "execution_count": null,
   "metadata": {},
   "outputs": [],
   "source": [
    "az_model_client = AzureOpenAIChatCompletionClient(\n",
    "    azure_deployment=deployment_name,\n",
    "    model=model_name,\n",
    "    api_version=api_version,\n",
    "    azure_endpoint=base_url,\n",
    "    # azure_ad_token_provider=token_provider,  # Optional if you choose key-based authentication.\n",
    "    api_key=api_key, # For key-based authentication.\n",
    "    parallel_tool_calls=False,  # type: ignore\n",
    ")\n",
    "\n",
    "agent_no_parallel_tool_call = AssistantAgent(\n",
    "    name=\"assistant\",\n",
    "    model_client=az_model_client,\n",
    "    tools=[web_search],\n",
    "    system_message=\"Use tools to solve tasks.\",\n",
    ")"
   ]
  },
  {
   "cell_type": "markdown",
   "metadata": {},
   "source": [
    "## Running an Agent in a Loop\n",
    "\n",
    "The `~autogen_agentchat.agents.AssistantAgent` executes one\n",
    "step at a time: one model call, followed by one tool call (or parallel tool calls), and then\n",
    "an optional reflection.\n",
    "\n",
    "To run it in a loop, for example, running it until it stops producing\n",
    "tool calls, please refer to [Single-Agent Team](./teams.ipynb#single-agent-team)."
   ]
  },
  {
   "cell_type": "markdown",
   "metadata": {},
   "source": [
    "## Structured Output\n",
    "\n",
    "Structured output allows models to return structured JSON text with pre-defined schema\n",
    "provided by the application. Different from JSON-mode, the schema can be provided\n",
    "as a [Pydantic BaseModel](https://docs.pydantic.dev/latest/concepts/models/)\n",
    "class, which can also be used to validate the output.\n",
    "\n",
    "Once you specify the base model class in the `output_content_type` parameter\n",
    "of the `~autogen_agentchat.agents.AssistantAgent` constructor,\n",
    "the agent will respond with a `~autogen_agentchat.messages.StructuredMessage`\n",
    "whose `content`'s type is the type of the base model class.\n",
    "\n",
    "This way, you can integrate agent's response directly into your application\n",
    "and use the model's output as a structured object.\n",
    "\n",
    "```{note}\n",
    "When the `output_content_type` is set, it by default requires the agent to reflect on the tool use\n",
    "and return the a structured output message based on the tool call result.\n",
    "You can disable this behavior by setting `reflect_on_tool_use=False` explictly.\n",
    "```\n",
    "\n",
    "Structured output is also useful for incorporating Chain-of-Thought\n",
    "reasoning in the agent's responses.\n",
    "See the example below for how to use structured output with the assistant agent."
   ]
  },
  {
   "cell_type": "code",
   "execution_count": null,
   "metadata": {},
   "outputs": [],
   "source": [
    "from typing import Literal\n",
    "\n",
    "from pydantic import BaseModel\n",
    "\n",
    "\n",
    "# The response format for the agent as a Pydantic base model.\n",
    "class AgentResponse(BaseModel):\n",
    "    thoughts: str\n",
    "    response: Literal[\"happy\", \"sad\", \"neutral\"]\n",
    "\n",
    "az_model_client = AzureOpenAIChatCompletionClient(\n",
    "    azure_deployment=deployment_name,\n",
    "    model=model_name,\n",
    "    api_version=api_version,\n",
    "    azure_endpoint=base_url,\n",
    "    # azure_ad_token_provider=token_provider,  # Optional if you choose key-based authentication.\n",
    "    api_key=api_key, # For key-based authentication.\n",
    ")\n",
    "\n",
    "agent = AssistantAgent(\n",
    "    \"assistant\",\n",
    "    model_client=az_model_client,\n",
    "    system_message=\"Categorize the input as happy, sad, or neutral following the JSON format.\",\n",
    "    # Define the output content type of the agent.\n",
    "    output_content_type=AgentResponse,\n",
    ")\n",
    "\n",
    "result = await Console(agent.run_stream(task=\"I am happy.\"))\n",
    "\n",
    "# Check the last message in the result, validate its type, and print the thoughts and response.\n",
    "assert isinstance(result.messages[-1], StructuredMessage)\n",
    "assert isinstance(result.messages[-1].content, AgentResponse)\n",
    "print(\"Thought: \", result.messages[-1].content.thoughts)\n",
    "print(\"Response: \", result.messages[-1].content.response)\n",
    "await az_model_client.close()"
   ]
  },
  {
   "cell_type": "markdown",
   "metadata": {},
   "source": [
    "## Streaming Tokens\n",
    "\n",
    "You can stream the tokens generated by the model client by setting `model_client_stream=True`.\n",
    "This will cause the agent to yield `~autogen_agentchat.messages.ModelClientStreamingChunkEvent` messages\n",
    "in `~autogen_agentchat.agents.BaseChatAgent.on_messages_stream` and `~autogen_agentchat.agents.BaseChatAgent.run_stream`.\n",
    "\n",
    "The underlying model API must support streaming tokens for this to work.\n",
    "Please check with your model provider to see if this is supported."
   ]
  },
  {
   "cell_type": "code",
   "execution_count": null,
   "metadata": {},
   "outputs": [],
   "source": [
    "az_model_client = AzureOpenAIChatCompletionClient(\n",
    "    azure_deployment=deployment_name,\n",
    "    model=model_name,\n",
    "    api_version=api_version,\n",
    "    azure_endpoint=base_url,\n",
    "    # azure_ad_token_provider=token_provider,  # Optional if you choose key-based authentication.\n",
    "    api_key=api_key, # For key-based authentication.\n",
    ")\n",
    "\n",
    "streaming_assistant = AssistantAgent(\n",
    "    name=\"assistant\",\n",
    "    model_client=az_model_client,\n",
    "    system_message=\"You are a helpful assistant.\",\n",
    "    model_client_stream=True,  # Enable streaming tokens.\n",
    ")\n",
    "\n",
    "# Use an async function and asyncio.run() in a script.\n",
    "async for message in streaming_assistant.on_messages_stream(  # type: ignore\n",
    "    [TextMessage(content=\"Name two cities in South America\", source=\"user\")],\n",
    "    cancellation_token=CancellationToken(),\n",
    "):\n",
    "    print(message)"
   ]
  },
  {
   "cell_type": "markdown",
   "metadata": {},
   "source": [
    "You can see the streaming chunks in the output above.\n",
    "The chunks are generated by the model client and are yielded by the agent as they are received.\n",
    "The final response, the concatenation of all the chunks, is yielded right after the last chunk.\n",
    "\n",
    "Similarly, `~autogen_agentchat.agents.BaseChatAgent.run_stream` will also yield the same streaming chunks,\n",
    "followed by a full text message right after the last chunk."
   ]
  },
  {
   "cell_type": "code",
   "execution_count": null,
   "metadata": {},
   "outputs": [],
   "source": [
    "async for message in streaming_assistant.run_stream(task=\"Name two cities in North America.\"):  # type: ignore\n",
    "    print(message)"
   ]
  },
  {
   "cell_type": "markdown",
   "metadata": {},
   "source": [
    "## Using Model Context\n",
    "\n",
    "`~autogen_agentchat.agents.AssistantAgent` has a `model_context`\n",
    "parameter that can be used to pass in a `~autogen_core.model_context.ChatCompletionContext`\n",
    "object. This allows the agent to use different model contexts, such as\n",
    "`~autogen_core.model_context.BufferedChatCompletionContext` to\n",
    "limit the context sent to the model.\n",
    "\n",
    "By default, `~autogen_agentchat.agents.AssistantAgent` uses\n",
    "the `~autogen_core.model_context.UnboundedChatCompletionContext`\n",
    "which sends the full conversation history to the model. To limit the context\n",
    "to the last `n` messages, you can use the `~autogen_core.model_context.BufferedChatCompletionContext`.\n",
    "To limit the context by token count, you can use the\n",
    "`~autogen_core.model_context.TokenLimitedChatCompletionContext`."
   ]
  },
  {
   "cell_type": "code",
   "execution_count": null,
   "metadata": {},
   "outputs": [],
   "source": [
    "from autogen_core.model_context import BufferedChatCompletionContext\n",
    "\n",
    "# Create an agent that uses only the last 5 messages in the context to generate responses.\n",
    "agent = AssistantAgent(\n",
    "    name=\"assistant\",\n",
    "    model_client=az_model_client,\n",
    "    tools=[web_search],\n",
    "    system_message=\"Use tools to solve tasks.\",\n",
    "    model_context=BufferedChatCompletionContext(buffer_size=5),  # Only use the last 5 messages in the context.\n",
    ")"
   ]
  },
  {
   "cell_type": "markdown",
   "metadata": {},
   "source": [
    "## Other Preset Agents\n",
    "\n",
    "The following preset agents are available:\n",
    "\n",
    "- `~autogen_agentchat.agents.UserProxyAgent`: An agent that takes user input returns it as responses.\n",
    "- `~autogen_agentchat.agents.CodeExecutorAgent`: An agent that can execute code.\n",
    "- `~autogen_ext.agents.openai.OpenAIAssistantAgent`: An agent that is backed by an OpenAI Assistant, with ability to use custom tools.\n",
    "- `~autogen_ext.agents.web_surfer.MultimodalWebSurfer`: A multi-modal agent that can search the web and visit web pages for information.\n",
    "- `~autogen_ext.agents.file_surfer.FileSurfer`: An agent that can search and browse local files for information.\n",
    "- `~autogen_ext.agents.video_surfer.VideoSurfer`: An agent that can watch videos for information."
   ]
  },
  {
   "cell_type": "markdown",
   "metadata": {},
   "source": [
    "## Next Step\n",
    "\n",
    "Having explored the usage of the `~autogen_agentchat.agents.AssistantAgent`, we can now proceed to the next section to learn about the teams feature in AgentChat.\n"
   ]
  },
  {
   "cell_type": "markdown",
   "metadata": {},
   "source": [
    "<!-- ## CodingAssistantAgent\n",
    "\n",
    "Generates responses (text and code) using an LLM upon receipt of a message. It takes a `system_message` argument that defines or sets the tone for how the agent's LLM should respond. \n",
    "\n",
    "```python\n",
    "\n",
    "writing_assistant_agent = CodingAssistantAgent(\n",
    "    name=\"writing_assistant_agent\",\n",
    "    system_message=\"You are a helpful assistant that solve tasks by generating text responses and code.\",\n",
    "    model_client=model_client,\n",
    ")\n",
    "`\n",
    "\n",
    "We can explore or test the behavior of the agent by sending a message to it using the  `~autogen_agentchat.agents.BaseChatAgent.on_messages`  method. \n",
    "\n",
    "```python\n",
    "result = await writing_assistant_agent.on_messages(\n",
    "    messages=[\n",
    "        TextMessage(content=\"What is the weather right now in France?\", source=\"user\"),\n",
    "    ],\n",
    "    cancellation_token=CancellationToken(),\n",
    ")\n",
    "print(result) -->"
   ]
  }
 ],
 "metadata": {
  "kernelspec": {
   "display_name": "Python 3",
   "language": "python",
   "name": "python3"
  },
  "language_info": {
   "codemirror_mode": {
    "name": "ipython",
    "version": 3
   },
   "file_extension": ".py",
   "mimetype": "text/x-python",
   "name": "python",
   "nbconvert_exporter": "python",
   "pygments_lexer": "ipython3",
   "version": "3.13.3"
  }
 },
 "nbformat": 4,
 "nbformat_minor": 2
}
