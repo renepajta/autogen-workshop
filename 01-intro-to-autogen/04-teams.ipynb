{
 "cells": [
  {
   "cell_type": "markdown",
   "metadata": {},
   "source": [
    "# Teams\n",
    "\n",
    "In this section you'll learn how to create a _multi-agent team_ (or simply team) using AutoGen. A team is a group of agents that work together to achieve a common goal.\n",
    "\n",
    "We'll first show you how to create and run a team. We'll then explain how to observe the team's behavior, which is crucial for debugging and understanding the team's performance, and common operations to control the team's behavior.\n",
    "\n",
    "\n",
    "AgentChat supports several team presets:\n",
    "\n",
    "- `~autogen_agentchat.teams.RoundRobinGroupChat`: A team that runs a group chat with participants taking turns in a round-robin fashion (covered on this page). [Tutorial](#creating-a-team) \n",
    "- `~autogen_agentchat.teams.SelectorGroupChat`: A team that selects the next speaker using a ChatCompletion model after each message. [Tutorial](../selector-group-chat.ipynb)\n",
    "- `~autogen_agentchat.teams.MagenticOneGroupChat`: A  generalist multi-agent system for solving open-ended web and file-based tasks across a variety of domains. [Tutorial](../magentic-one.md) \n",
    "\n",
    "```{note}\n",
    "\n",
    "**When should you use a team?**\n",
    "\n",
    "Teams are for complex tasks that require collaboration and diverse expertise.\n",
    "However, they also demand more scaffolding to steer compared to single agents.\n",
    "While AutoGen simplifies the process of working with teams, start with\n",
    "a single agent for simpler tasks, and transition to a multi-agent team when a single agent proves inadequate.\n",
    "Ensure that you have optimized your single agent with the appropriate tools\n",
    "and instructions before moving to a team-based approach.\n",
    "```"
   ]
  },
  {
   "cell_type": "markdown",
   "metadata": {},
   "source": [
    "## Creating a Team\n",
    "\n",
    "`~autogen_agentchat.teams.RoundRobinGroupChat` is a simple yet effective team configuration where all agents share the same context and take turns responding in a round-robin fashion. Each agent, during its turn, broadcasts its response to all other agents, ensuring that the entire team maintains a consistent context.\n",
    "\n",
    "We will begin by creating a team with two `~autogen_agentchat.agents.AssistantAgent` and a `~autogen_agentchat.conditions.TextMentionTermination` condition that stops the team when a specific word is detected in the agent's response.\n",
    "\n",
    "The two-agent team implements the _reflection_ pattern, a multi-agent design pattern where a critic agent evaluates the responses of a primary agent. Learn more about the reflection pattern using the [Core API](../../core-user-guide/design-patterns/reflection.ipynb)."
   ]
  },
  {
   "cell_type": "code",
   "execution_count": null,
   "metadata": {},
   "outputs": [],
   "source": [
    "import asyncio\n",
    "\n",
    "from autogen_agentchat.agents import AssistantAgent\n",
    "from autogen_agentchat.base import TaskResult\n",
    "from autogen_agentchat.conditions import ExternalTermination, TextMentionTermination\n",
    "from autogen_agentchat.teams import RoundRobinGroupChat\n",
    "from autogen_agentchat.ui import Console\n",
    "from autogen_core import CancellationToken\n",
    "from autogen_ext.models.openai import AzureOpenAIChatCompletionClient"
   ]
  },
  {
   "cell_type": "code",
   "execution_count": null,
   "metadata": {},
   "outputs": [],
   "source": [
    "import os \n",
    "from dotenv import load_dotenv\n",
    "load_dotenv(override=True)  # Load environment variables from .env file\n",
    "\n",
    "# Load environment variables\n",
    "deployment_name = os.getenv(\"AZURE_OPENAI_DEPLOYMENT_NAME\")\n",
    "model_name = os.getenv(\"AZURE_OPENAI_MODEL_NAME\")\n",
    "api_key = os.getenv(\"AZURE_OPENAI_API_KEY\")\n",
    "base_url = os.getenv(\"AZURE_OPENAI_ENDPOINT\")\n",
    "api_version = os.getenv(\"AZURE_OPENAI_API_VERSION\")\n",
    "\n",
    "az_model_client = AzureOpenAIChatCompletionClient(\n",
    "    azure_deployment=deployment_name,\n",
    "    model=model_name,\n",
    "    api_version=api_version,\n",
    "    azure_endpoint=base_url,\n",
    "    # azure_ad_token_provider=token_provider,  # Optional if you choose key-based authentication.\n",
    "    api_key=api_key, # For key-based authentication.\n",
    ")"
   ]
  },
  {
   "cell_type": "code",
   "execution_count": null,
   "metadata": {},
   "outputs": [],
   "source": [
    "\n",
    "# Create the primary agent.\n",
    "primary_agent = AssistantAgent(\n",
    "    \"primary\",\n",
    "    model_client=az_model_client,\n",
    "    system_message=\"You are a helpful AI assistant.\",\n",
    ")\n",
    "\n",
    "# Create the critic agent.\n",
    "critic_agent = AssistantAgent(\n",
    "    \"critic\",\n",
    "    model_client=az_model_client,\n",
    "    system_message=\"Provide constructive feedback. Respond with 'APPROVE' to when your feedbacks are addressed.\",\n",
    ")\n",
    "\n",
    "# Define a termination condition that stops the task if the critic approves.\n",
    "text_termination = TextMentionTermination(\"APPROVE\")\n",
    "\n",
    "# Create a team with the primary and critic agents.\n",
    "team = RoundRobinGroupChat([primary_agent, critic_agent], termination_condition=text_termination)"
   ]
  },
  {
   "cell_type": "markdown",
   "metadata": {},
   "source": [
    "## Running a Team\n",
    "\n",
    "Let's call the `~autogen_agentchat.teams.BaseGroupChat.run` method\n",
    "to start the team with a task."
   ]
  },
  {
   "cell_type": "code",
   "execution_count": null,
   "metadata": {},
   "outputs": [],
   "source": [
    "# Use `asyncio.run(...)` when running in a script.\n",
    "result = await team.run(task=\"Write a short poem about the fall season.\")\n",
    "print(result)"
   ]
  },
  {
   "cell_type": "markdown",
   "metadata": {},
   "source": [
    "The team runs the agents until the termination condition was met.\n",
    "In this case, the team ran agents following a round-robin order until the the\n",
    "termination condition was met when the word \"APPROVE\" was detected in the\n",
    "agent's response.\n",
    "When the team stops, it returns a `~autogen_agentchat.base.TaskResult` object with all the messages produced by the agents in the team."
   ]
  },
  {
   "cell_type": "markdown",
   "metadata": {},
   "source": [
    "## Observing a Team\n",
    "\n",
    "Similar to the agent's `~autogen_agentchat.agents.BaseChatAgent.on_messages_stream` method, you can stream the team's messages while it is running by calling the `~autogen_agentchat.teams.BaseGroupChat.run_stream` method. This method returns a generator that yields messages produced by the agents in the team as they are generated, with the final item being the `~autogen_agentchat.base.TaskResult` object."
   ]
  },
  {
   "cell_type": "code",
   "execution_count": null,
   "metadata": {},
   "outputs": [],
   "source": [
    "# When running inside a script, use a async main function and call it from `asyncio.run(...)`.\n",
    "await team.reset()  # Reset the team for a new task.\n",
    "\n",
    "async for message in team.run_stream(task=\"Write a short poem about the fall season.\"):  # type: ignore\n",
    "    if isinstance(message, TaskResult):\n",
    "        print(\"Stop Reason:\", message.stop_reason)\n",
    "    else:\n",
    "        print(message)"
   ]
  },
  {
   "cell_type": "markdown",
   "metadata": {},
   "source": [
    "As demonstrated in the example above, you can determine the reason why the team stopped by checking the `~autogen_agentchat.base.TaskResult.stop_reason` attribute.\n",
    "\n",
    "The `~autogen_agentchat.ui.Console` method provides a convenient way to print messages to the console with proper formatting.\n"
   ]
  },
  {
   "cell_type": "code",
   "execution_count": null,
   "metadata": {},
   "outputs": [],
   "source": [
    "await team.reset()  # Reset the team for a new task.\n",
    "await Console(team.run_stream(task=\"Write a short poem about the fall season.\"))  # Stream the messages to the console."
   ]
  },
  {
   "cell_type": "markdown",
   "metadata": {},
   "source": [
    "## Resetting a Team\n",
    "\n",
    "You can reset the team by calling the `~autogen_agentchat.teams.BaseGroupChat.reset` method. This method will clear the team's state, including all agents.\n",
    "It will call the each agent's `~autogen_agentchat.base.ChatAgent.on_reset` method to clear the agent's state."
   ]
  },
  {
   "cell_type": "code",
   "execution_count": null,
   "metadata": {},
   "outputs": [],
   "source": [
    "await team.reset()  # Reset the team for the next run."
   ]
  },
  {
   "cell_type": "markdown",
   "metadata": {},
   "source": [
    "It is usually a good idea to reset the team if the next task is not related to the previous task.\n",
    "However, if the next task is related to the previous task, you don't need to reset and you can instead\n",
    "resume the team."
   ]
  },
  {
   "cell_type": "markdown",
   "metadata": {},
   "source": [
    "## Stopping a Team\n",
    "\n",
    "Apart from automatic termination conditions such as `~autogen_agentchat.conditions.TextMentionTermination`\n",
    "that stops the team based on the internal state of the team, you can also stop the team\n",
    "from outside by using the `~autogen_agentchat.conditions.ExternalTermination`.\n",
    "\n",
    "Calling `~autogen_agentchat.conditions.ExternalTermination.set` \n",
    "on `~autogen_agentchat.conditions.ExternalTermination` will stop\n",
    "the team when the current agent's turn is over.\n",
    "Thus, the team may not stop immediately.\n",
    "This allows the current agent to finish its turn and broadcast the final message to the team\n",
    "before the team stops, keeping the team's state consistent."
   ]
  },
  {
   "cell_type": "code",
   "execution_count": null,
   "metadata": {},
   "outputs": [],
   "source": [
    "# Create a new team with an external termination condition.\n",
    "external_termination = ExternalTermination()\n",
    "team = RoundRobinGroupChat(\n",
    "    [primary_agent, critic_agent],\n",
    "    termination_condition=external_termination | text_termination,  # Use the bitwise OR operator to combine conditions.\n",
    ")\n",
    "\n",
    "# Run the team in a background task.\n",
    "run = asyncio.create_task(Console(team.run_stream(task=\"Write a short poem about the fall season.\")))\n",
    "\n",
    "# Wait for some time.\n",
    "await asyncio.sleep(0.1)\n",
    "\n",
    "# Stop the team.\n",
    "external_termination.set()\n",
    "\n",
    "# Wait for the team to finish.\n",
    "await run"
   ]
  },
  {
   "cell_type": "markdown",
   "metadata": {},
   "source": [
    "From the ouput above, you can see the team stopped because the external termination condition was met,\n",
    "but the speaking agent was able to finish its turn before the team stopped."
   ]
  },
  {
   "cell_type": "markdown",
   "metadata": {},
   "source": [
    "## Resuming a Team\n",
    "\n",
    "Teams are stateful and maintains the conversation history and context\n",
    "after each run, unless you reset the team.\n",
    "\n",
    "You can resume a team to continue from where it left off by calling the `~autogen_agentchat.teams.BaseGroupChat.run` or `~autogen_agentchat.teams.BaseGroupChat.run_stream` method again\n",
    "without a new task.\n",
    "`~autogen_agentchat.teams.RoundRobinGroupChat` will continue from the next agent in the round-robin order."
   ]
  },
  {
   "cell_type": "code",
   "execution_count": null,
   "metadata": {},
   "outputs": [],
   "source": [
    "await Console(team.run_stream())  # Resume the team to continue the last task."
   ]
  },
  {
   "cell_type": "markdown",
   "metadata": {},
   "source": [
    "You can see the team resumed from where it left off in the output above,\n",
    "and the first message is from the next agent after the last agent that spoke\n",
    "before the team stopped.\n",
    "\n",
    "Let's resume the team again with a new task while keeping the context about the previous task."
   ]
  },
  {
   "cell_type": "code",
   "execution_count": null,
   "metadata": {},
   "outputs": [],
   "source": [
    "# The new task is to translate the same poem to Chinese Tang-style poetry.\n",
    "await Console(team.run_stream(task=\"将这首诗用中文唐诗风格写一遍。\"))"
   ]
  },
  {
   "cell_type": "markdown",
   "metadata": {},
   "source": [
    "## Aborting a Team\n",
    "\n",
    "You can abort a call to `~autogen_agentchat.teams.BaseGroupChat.run` or `~autogen_agentchat.teams.BaseGroupChat.run_stream`\n",
    "during execution by setting a `~autogen_core.CancellationToken` passed to the `cancellation_token` parameter.\n",
    "\n",
    "Different from stopping a team, aborting a team will immediately stop the team and raise a `~asyncio.CancelledError` exception.\n",
    "\n",
    "```{note}\n",
    "The caller will get a `~asyncio.CancelledError` exception when the team is aborted.\n",
    "```"
   ]
  },
  {
   "cell_type": "code",
   "execution_count": null,
   "metadata": {},
   "outputs": [],
   "source": [
    "# Create a cancellation token.\n",
    "cancellation_token = CancellationToken()\n",
    "\n",
    "# Use another coroutine to run the team.\n",
    "run = asyncio.create_task(\n",
    "    team.run(\n",
    "        task=\"Translate the poem to Spanish.\",\n",
    "        cancellation_token=cancellation_token,\n",
    "    )\n",
    ")\n",
    "\n",
    "# Cancel the run.\n",
    "cancellation_token.cancel()\n",
    "\n",
    "try:\n",
    "    result = await run  # This will raise a CancelledError.\n",
    "except asyncio.CancelledError:\n",
    "    print(\"Task was cancelled.\")"
   ]
  },
  {
   "cell_type": "markdown",
   "metadata": {},
   "source": [
    "## Single-Agent Team\n",
    "\n",
    "Often, you may want to run a single agent in a team configuration.\n",
    "This is useful for running the `~autogen_agentchat.agents.AssistantAgent` in a loop\n",
    "until a termination condition is met.\n",
    "\n",
    "This is different from running the `~autogen_agentchat.agents.AssistantAgent` using\n",
    "its `~autogen_agentchat.agents.BaseChatAgent.run` or `~autogen_agentchat.agents.BaseChatAgent.run_stream` method,\n",
    "which only runs the agent for one step and returns the result.\n",
    "See `~autogen_agentchat.agents.AssistantAgent` for more details about a single step.\n",
    "\n",
    "Here is an example of running a single agent in a `~autogen_agentchat.teams.RoundRobinGroupChat` team configuration\n",
    "with a `~autogen_agentchat.conditions.TextMessageTermination` condition.\n",
    "The task is to increment a number until it reaches 10 using a tool.\n",
    "The agent will keep calling the tool until the number reaches 10,\n",
    "and then it will return a final `~autogen_agentchat.messages.TextMessage`\n",
    "which will stop the run."
   ]
  },
  {
   "cell_type": "code",
   "execution_count": null,
   "metadata": {},
   "outputs": [],
   "source": [
    "from autogen_agentchat.agents import AssistantAgent\n",
    "from autogen_agentchat.conditions import TextMessageTermination\n",
    "from autogen_agentchat.teams import RoundRobinGroupChat\n",
    "from autogen_agentchat.ui import Console\n",
    "\n",
    "az_model_client = AzureOpenAIChatCompletionClient(\n",
    "    azure_deployment=deployment_name,\n",
    "    model=model_name,\n",
    "    api_version=api_version,\n",
    "    azure_endpoint=base_url,\n",
    "    # azure_ad_token_provider=token_provider,  # Optional if you choose key-based authentication.\n",
    "    api_key=api_key, # For key-based authentication.\n",
    "    parallel_tool_calls=False,\n",
    ")\n",
    "\n",
    "# Create a tool for incrementing a number.\n",
    "def increment_number(number: int) -> int:\n",
    "    \"\"\"Increment a number by 1.\"\"\"\n",
    "    return number + 1\n",
    "\n",
    "\n",
    "# Create a tool agent that uses the increment_number function.\n",
    "looped_assistant = AssistantAgent(\n",
    "    \"looped_assistant\",\n",
    "    model_client=az_model_client,\n",
    "    tools=[increment_number],  # Register the tool.\n",
    "    system_message=\"You are a helpful AI assistant, use the tool to increment the number.\",\n",
    ")\n",
    "\n",
    "# Termination condition that stops the task if the agent responds with a text message.\n",
    "termination_condition = TextMessageTermination(\"looped_assistant\")\n",
    "\n",
    "# Create a team with the looped assistant agent and the termination condition.\n",
    "team = RoundRobinGroupChat(\n",
    "    [looped_assistant],\n",
    "    termination_condition=termination_condition,\n",
    ")\n",
    "\n",
    "# Run the team with a task and print the messages to the console.\n",
    "async for message in team.run_stream(task=\"Increment the number 5 to 10.\"):  # type: ignore\n",
    "    print(type(message).__name__, message)\n",
    "\n",
    "await az_model_client.close()"
   ]
  },
  {
   "cell_type": "markdown",
   "metadata": {},
   "source": [
    "The key is to focus on the termination condition.\n",
    "In this example, we use a `~autogen_agentchat.conditions.TextMessageTermination` condition\n",
    "that stops the team when the agent stop producing `~autogen_agentchat.messages.ToolCallSummaryMessage`.\n",
    "The team will keep running until the agent produces a `~autogen_agentchat.messages.TextMessage` with the final result.\n",
    "\n",
    "You can also use other termination conditions to control the agent.\n",
    "See [Termination Conditions](./termination.ipynb) for more details."
   ]
  }
 ],
 "metadata": {
  "kernelspec": {
   "display_name": "Python 3",
   "language": "python",
   "name": "python3"
  },
  "language_info": {
   "codemirror_mode": {
    "name": "ipython",
    "version": 3
   },
   "file_extension": ".py",
   "mimetype": "text/x-python",
   "name": "python",
   "nbconvert_exporter": "python",
   "pygments_lexer": "ipython3",
   "version": "3.13.3"
  }
 },
 "nbformat": 4,
 "nbformat_minor": 2
}
